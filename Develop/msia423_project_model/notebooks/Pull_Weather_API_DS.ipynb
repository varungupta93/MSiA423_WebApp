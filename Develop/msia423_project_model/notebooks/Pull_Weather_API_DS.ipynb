{
 "cells": [
  {
   "cell_type": "markdown",
   "metadata": {},
   "source": [
    "# Weather Underground stopped allowing access to historical data, and with the 10 calls/minute limit were slow to use. This is how weather data is pulled from DarkSky.net"
   ]
  },
  {
   "cell_type": "code",
   "execution_count": 1,
   "metadata": {
    "collapsed": true
   },
   "outputs": [],
   "source": [
    "import requests\n",
    "import time\n",
    "import json\n",
    "import config\n",
    "import datetime\n",
    "import pandas as pd\n",
    "import os"
   ]
  },
  {
   "cell_type": "code",
   "execution_count": 3,
   "metadata": {
    "collapsed": true
   },
   "outputs": [],
   "source": [
    " #Chicago coordinates\n",
    "latitude = \"41.8781\"\n",
    "longitude = \"-87.6298\"\n"
   ]
  },
  {
   "cell_type": "markdown",
   "metadata": {},
   "source": [
    "### Getting Historical Weather Data"
   ]
  },
  {
   "cell_type": "code",
   "execution_count": 16,
   "metadata": {},
   "outputs": [
    {
     "name": "stdout",
     "output_type": "stream",
     "text": [
      "2017-12-31 00:00:00\n"
     ]
    }
   ],
   "source": [
    "enddate = datetime.datetime(2017,12,31) #final date to pull weather for.\n",
    "\n",
    "startdate = enddate - datetime.timedelta(days = 1)"
   ]
  },
  {
   "cell_type": "code",
   "execution_count": 70,
   "metadata": {},
   "outputs": [
    {
     "name": "stdout",
     "output_type": "stream",
     "text": [
      "1514613600\n"
     ]
    }
   ],
   "source": [
    "print(int(startdate.timestamp())) #UNIX time format for URL request"
   ]
  },
  {
   "cell_type": "code",
   "execution_count": 48,
   "metadata": {
    "collapsed": true
   },
   "outputs": [
    {
     "name": "stdout",
     "output_type": "stream",
     "text": [
      "1514613600\n",
      "1514700000\n",
      "[{'latitude': 41.8781, 'longitude': -87.6298, 'timezone': 'America/Chicago', 'daily': {'data': [{'time': 1514613600, 'summary': 'Mostly cloudy overnight.', 'icon': 'partly-cloudy-night', 'sunriseTime': 1514639952, 'sunsetTime': 1514672980, 'moonPhase': 0.41, 'precipIntensity': 0, 'precipIntensityMax': 0, 'precipProbability': 0, 'temperatureHigh': 7.38, 'temperatureHighTime': 1514638800, 'temperatureLow': 1.35, 'temperatureLowTime': 1514696400, 'apparentTemperatureHigh': -10.19, 'apparentTemperatureHighTime': 1514667600, 'apparentTemperatureLow': -15.58, 'apparentTemperatureLowTime': 1514689200, 'dewPoint': -2.97, 'humidity': 0.64, 'pressure': 1027.59, 'windSpeed': 13.24, 'windBearing': 296, 'cloudCover': 0.22, 'visibility': 9.26, 'temperatureMin': 1.35, 'temperatureMinTime': 1514696400, 'temperatureMax': 14.85, 'temperatureMaxTime': 1514613600, 'apparentTemperatureMin': -15.58, 'apparentTemperatureMinTime': 1514689200, 'apparentTemperatureMax': 3.87, 'apparentTemperatureMaxTime': 1514613600}]}, 'offset': -6}, {'latitude': 41.8781, 'longitude': -87.6298, 'timezone': 'America/Chicago', 'daily': {'data': [{'time': 1514700000, 'summary': 'Partly cloudy in the morning.', 'icon': 'partly-cloudy-night', 'sunriseTime': 1514726360, 'sunsetTime': 1514759429, 'moonPhase': 0.45, 'precipIntensity': 0, 'precipIntensityMax': 0, 'precipProbability': 0, 'temperatureHigh': 13.81, 'temperatureHighTime': 1514754000, 'temperatureLow': -6.16, 'temperatureLowTime': 1514815200, 'apparentTemperatureHigh': -0.05, 'apparentTemperatureHighTime': 1514750400, 'apparentTemperatureLow': -25.86, 'apparentTemperatureLowTime': 1514811600, 'dewPoint': -3.69, 'humidity': 0.63, 'pressure': 1034.8, 'windSpeed': 10.15, 'windBearing': 294, 'cloudCover': 0.25, 'visibility': 9.91, 'temperatureMin': 1.47, 'temperatureMinTime': 1514700000, 'temperatureMax': 13.81, 'temperatureMaxTime': 1514754000, 'apparentTemperatureMin': -14.52, 'apparentTemperatureMinTime': 1514700000, 'apparentTemperatureMax': -0.05, 'apparentTemperatureMaxTime': 1514750400}]}, 'offset': -6}]\n"
     ]
    }
   ],
   "source": [
    "day_datetime = startdate\n",
    "ctr = 0\n",
    "responses = [] #list to store responses from API\n",
    "while day_datetime <= enddate: #Need to change dates and call <1000/day to get weather for all dates.\n",
    "    dayiter = str(int(day_datetime.timestamp())) #string date format for current date on loop.\n",
    "    print(dayiter)\n",
    "    ctr = ctr + 1\n",
    "    url = str(\"https://api.darksky.net/forecast/\"+ config.api_k + \"/\"+ latitude + \n",
    "           \",\" + longitude + \",\"+ str(dayiter) + \"?exclude=currently,minutely,flags,hourly\")\n",
    "    \n",
    "    response = requests.get(url).json()\n",
    "    responses.append(response)\n",
    "    day_datetime = day_datetime + datetime.timedelta(days = 1)\n",
    "    \n",
    "    if ctr == 4: #Purely during testing, to prevent an infinite loop of calls and resultant API ban.\n",
    "        break\n",
    "\n",
    "                            "
   ]
  },
  {
   "cell_type": "code",
   "execution_count": 49,
   "metadata": {},
   "outputs": [
    {
     "name": "stdout",
     "output_type": "stream",
     "text": [
      "{'latitude': 41.8781, 'longitude': -87.6298, 'timezone': 'America/Chicago', 'daily': {'data': [{'time': 1514700000, 'summary': 'Partly cloudy in the morning.', 'icon': 'partly-cloudy-night', 'sunriseTime': 1514726360, 'sunsetTime': 1514759429, 'moonPhase': 0.45, 'precipIntensity': 0, 'precipIntensityMax': 0, 'precipProbability': 0, 'temperatureHigh': 13.81, 'temperatureHighTime': 1514754000, 'temperatureLow': -6.16, 'temperatureLowTime': 1514815200, 'apparentTemperatureHigh': -0.05, 'apparentTemperatureHighTime': 1514750400, 'apparentTemperatureLow': -25.86, 'apparentTemperatureLowTime': 1514811600, 'dewPoint': -3.69, 'humidity': 0.63, 'pressure': 1034.8, 'windSpeed': 10.15, 'windBearing': 294, 'cloudCover': 0.25, 'visibility': 9.91, 'temperatureMin': 1.47, 'temperatureMinTime': 1514700000, 'temperatureMax': 13.81, 'temperatureMaxTime': 1514754000, 'apparentTemperatureMin': -14.52, 'apparentTemperatureMinTime': 1514700000, 'apparentTemperatureMax': -0.05, 'apparentTemperatureMaxTime': 1514750400}]}, 'offset': -6}\n"
     ]
    }
   ],
   "source": [
    "print(response) #Sample response"
   ]
  },
  {
   "cell_type": "markdown",
   "metadata": {},
   "source": [
    "### Store historic weather data in DataFrame, to write to csv and be used to train model. Full script will do this in batches to stay within call limit."
   ]
  },
  {
   "cell_type": "code",
   "execution_count": 68,
   "metadata": {},
   "outputs": [
    {
     "data": {
      "text/html": [
       "<div>\n",
       "<style>\n",
       "    .dataframe thead tr:only-child th {\n",
       "        text-align: right;\n",
       "    }\n",
       "\n",
       "    .dataframe thead th {\n",
       "        text-align: left;\n",
       "    }\n",
       "\n",
       "    .dataframe tbody tr th {\n",
       "        vertical-align: top;\n",
       "    }\n",
       "</style>\n",
       "<table border=\"1\" class=\"dataframe\">\n",
       "  <thead>\n",
       "    <tr style=\"text-align: right;\">\n",
       "      <th></th>\n",
       "      <th>Date</th>\n",
       "      <th>MeanAppTemp</th>\n",
       "      <th>PrecipIntensity</th>\n",
       "      <th>PrecipProb</th>\n",
       "    </tr>\n",
       "  </thead>\n",
       "  <tbody>\n",
       "    <tr>\n",
       "      <th>0</th>\n",
       "      <td>12/30/2017</td>\n",
       "      <td>-12.885</td>\n",
       "      <td>0</td>\n",
       "      <td>0</td>\n",
       "    </tr>\n",
       "    <tr>\n",
       "      <th>1</th>\n",
       "      <td>12/31/2017</td>\n",
       "      <td>-12.955</td>\n",
       "      <td>0</td>\n",
       "      <td>0</td>\n",
       "    </tr>\n",
       "  </tbody>\n",
       "</table>\n",
       "</div>"
      ],
      "text/plain": [
       "         Date  MeanAppTemp  PrecipIntensity  PrecipProb\n",
       "0  12/30/2017      -12.885                0           0\n",
       "1  12/31/2017      -12.955                0           0"
      ]
     },
     "execution_count": 68,
     "metadata": {},
     "output_type": "execute_result"
    }
   ],
   "source": [
    "datlist = []\n",
    "for resp in responses:\n",
    "    \n",
    "    datlist.append({\"Date\": datetime.datetime.fromtimestamp(resp[\"daily\"][\"data\"][0][\"time\"]).strftime(\"%m/%d/%Y\"),\n",
    "                       \"MeanAppTemp\": (resp[\"daily\"][\"data\"][0][\"apparentTemperatureLow\"] +\n",
    "                                      resp[\"daily\"][\"data\"][0][\"apparentTemperatureHigh\"])/2,\n",
    "                       \"PrecipProb\": resp[\"daily\"][\"data\"][0][\"precipProbability\"],\n",
    "                       \"PrecipIntensity\": resp[\"daily\"][\"data\"][0][\"precipProbability\"]})\n",
    "weatherDat = pd.DataFrame(datlist)\n",
    "weatherDat\n"
   ]
  },
  {
   "cell_type": "markdown",
   "metadata": {},
   "source": [
    "### Get current forecast for next few days (to be calculated at regular intervals - every few hours - and stored,                                         and used in predictions for the web app). Only the immediate next day is used."
   ]
  },
  {
   "cell_type": "code",
   "execution_count": 4,
   "metadata": {
    "scrolled": true
   },
   "outputs": [
    {
     "name": "stdout",
     "output_type": "stream",
     "text": [
      "{'latitude': 41.8781, 'longitude': -87.6298, 'timezone': 'America/Chicago', 'daily': {'summary': 'Mixed precipitation on Friday and next Sunday, with temperatures falling to 35°F on Tuesday.', 'icon': 'snow', 'data': [{'time': 1521349200, 'summary': 'Partly cloudy starting in the afternoon, continuing until evening.', 'icon': 'partly-cloudy-day', 'sunriseTime': 1521374285, 'sunsetTime': 1521417688, 'moonPhase': 0.04, 'precipIntensity': 0.0001, 'precipIntensityMax': 0.002, 'precipIntensityMaxTime': 1521421200, 'precipProbability': 0.13, 'precipType': 'rain', 'temperatureHigh': 54.63, 'temperatureHighTime': 1521410400, 'temperatureLow': 34.28, 'temperatureLowTime': 1521464400, 'apparentTemperatureHigh': 54.63, 'apparentTemperatureHighTime': 1521410400, 'apparentTemperatureLow': 25.24, 'apparentTemperatureLowTime': 1521464400, 'dewPoint': 23.81, 'humidity': 0.53, 'pressure': 1016.88, 'windSpeed': 0.78, 'windGust': 7.03, 'windGustTime': 1521432000, 'windBearing': 164, 'cloudCover': 0.12, 'uvIndex': 5, 'uvIndexTime': 1521396000, 'visibility': 10, 'ozone': 357.43, 'temperatureMin': 28.82, 'temperatureMinTime': 1521374400, 'temperatureMax': 54.63, 'temperatureMaxTime': 1521410400, 'apparentTemperatureMin': 28.82, 'apparentTemperatureMinTime': 1521374400, 'apparentTemperatureMax': 54.63, 'apparentTemperatureMaxTime': 1521410400}, {'time': 1521435600, 'summary': 'Mostly cloudy throughout the day and breezy starting in the evening.', 'icon': 'wind', 'sunriseTime': 1521460581, 'sunsetTime': 1521504154, 'moonPhase': 0.07, 'precipIntensity': 0.0002, 'precipIntensityMax': 0.0016, 'precipIntensityMaxTime': 1521439200, 'precipProbability': 0.12, 'precipType': 'rain', 'temperatureHigh': 40.23, 'temperatureHighTime': 1521489600, 'temperatureLow': 28, 'temperatureLowTime': 1521543600, 'apparentTemperatureHigh': 31.15, 'apparentTemperatureHighTime': 1521489600, 'apparentTemperatureLow': 13.77, 'apparentTemperatureLowTime': 1521543600, 'dewPoint': 28.22, 'humidity': 0.72, 'pressure': 1012.91, 'windSpeed': 14.48, 'windGust': 29.51, 'windGustTime': 1521511200, 'windBearing': 54, 'cloudCover': 0.72, 'uvIndex': 3, 'uvIndexTime': 1521482400, 'visibility': 10, 'ozone': 366.87, 'temperatureMin': 32.33, 'temperatureMinTime': 1521518400, 'temperatureMax': 40.23, 'temperatureMaxTime': 1521489600, 'apparentTemperatureMin': 19.78, 'apparentTemperatureMinTime': 1521518400, 'apparentTemperatureMax': 32.45, 'apparentTemperatureMaxTime': 1521435600}, {'time': 1521522000, 'summary': 'Breezy in the morning and mostly cloudy throughout the day.', 'icon': 'wind', 'sunriseTime': 1521546878, 'sunsetTime': 1521590621, 'moonPhase': 0.11, 'precipIntensity': 0.0001, 'precipIntensityMax': 0.0003, 'precipIntensityMaxTime': 1521525600, 'precipProbability': 0.12, 'precipAccumulation': 0.028, 'precipType': 'snow', 'temperatureHigh': 34.93, 'temperatureHighTime': 1521576000, 'temperatureLow': 29, 'temperatureLowTime': 1521630000, 'apparentTemperatureHigh': 24.5, 'apparentTemperatureHighTime': 1521576000, 'apparentTemperatureLow': 18.52, 'apparentTemperatureLowTime': 1521622800, 'dewPoint': 21.21, 'humidity': 0.64, 'pressure': 1014.26, 'windSpeed': 19.29, 'windGust': 28.87, 'windGustTime': 1521543600, 'windBearing': 43, 'cloudCover': 0.8, 'uvIndex': 3, 'uvIndexTime': 1521565200, 'visibility': 10, 'ozone': 388.27, 'temperatureMin': 28, 'temperatureMinTime': 1521543600, 'temperatureMax': 34.93, 'temperatureMaxTime': 1521576000, 'apparentTemperatureMin': 13.77, 'apparentTemperatureMinTime': 1521543600, 'apparentTemperatureMax': 24.5, 'apparentTemperatureMaxTime': 1521576000}, {'time': 1521608400, 'summary': 'Mostly cloudy throughout the day.', 'icon': 'partly-cloudy-day', 'sunriseTime': 1521633174, 'sunsetTime': 1521677087, 'moonPhase': 0.14, 'precipIntensity': 0.0001, 'precipIntensityMax': 0.0002, 'precipIntensityMaxTime': 1521608400, 'precipProbability': 0.11, 'precipAccumulation': 0.022, 'precipType': 'snow', 'temperatureHigh': 35.34, 'temperatureHighTime': 1521662400, 'temperatureLow': 28.7, 'temperatureLowTime': 1521702000, 'apparentTemperatureHigh': 26.87, 'apparentTemperatureHighTime': 1521662400, 'apparentTemperatureLow': 22.58, 'apparentTemperatureLowTime': 1521716400, 'dewPoint': 21.28, 'humidity': 0.64, 'pressure': 1021.32, 'windSpeed': 11.58, 'windGust': 21.28, 'windGustTime': 1521612000, 'windBearing': 32, 'cloudCover': 0.83, 'uvIndex': 2, 'uvIndexTime': 1521648000, 'visibility': 10, 'ozone': 410.39, 'temperatureMin': 29, 'temperatureMinTime': 1521630000, 'temperatureMax': 35.34, 'temperatureMaxTime': 1521662400, 'apparentTemperatureMin': 18.52, 'apparentTemperatureMinTime': 1521622800, 'apparentTemperatureMax': 26.87, 'apparentTemperatureMaxTime': 1521662400}, {'time': 1521694800, 'summary': 'Mostly cloudy starting in the evening.', 'icon': 'partly-cloudy-night', 'sunriseTime': 1521719470, 'sunsetTime': 1521763553, 'moonPhase': 0.18, 'precipIntensity': 0.0001, 'precipIntensityMax': 0.0002, 'precipIntensityMaxTime': 1521698400, 'precipProbability': 0.07, 'precipType': 'rain', 'temperatureHigh': 41.21, 'temperatureHighTime': 1521745200, 'temperatureLow': 29.32, 'temperatureLowTime': 1521802800, 'apparentTemperatureHigh': 36.96, 'apparentTemperatureHighTime': 1521745200, 'apparentTemperatureLow': 22.34, 'apparentTemperatureLowTime': 1521802800, 'dewPoint': 21.25, 'humidity': 0.59, 'pressure': 1026.23, 'windSpeed': 5.5, 'windGust': 16.59, 'windGustTime': 1521720000, 'windBearing': 30, 'cloudCover': 0.24, 'uvIndex': 4, 'uvIndexTime': 1521738000, 'ozone': 413.12, 'temperatureMin': 28.7, 'temperatureMinTime': 1521702000, 'temperatureMax': 41.21, 'temperatureMaxTime': 1521745200, 'apparentTemperatureMin': 22.58, 'apparentTemperatureMinTime': 1521716400, 'apparentTemperatureMax': 36.96, 'apparentTemperatureMaxTime': 1521745200}, {'time': 1521781200, 'summary': 'Snow (< 1 in.) in the evening.', 'icon': 'snow', 'sunriseTime': 1521805766, 'sunsetTime': 1521850019, 'moonPhase': 0.22, 'precipIntensity': 0.0045, 'precipIntensityMax': 0.0215, 'precipIntensityMaxTime': 1521853200, 'precipProbability': 0.26, 'precipAccumulation': 0.608, 'precipType': 'snow', 'temperatureHigh': 42.04, 'temperatureHighTime': 1521831600, 'temperatureLow': 31.95, 'temperatureLowTime': 1521864000, 'apparentTemperatureHigh': 36.5, 'apparentTemperatureHighTime': 1521831600, 'apparentTemperatureLow': 22.65, 'apparentTemperatureLowTime': 1521864000, 'dewPoint': 23.63, 'humidity': 0.64, 'pressure': 1024.21, 'windSpeed': 8.63, 'windGust': 32.96, 'windGustTime': 1521853200, 'windBearing': 91, 'cloudCover': 0.97, 'uvIndex': 3, 'uvIndexTime': 1521824400, 'ozone': 360.65, 'temperatureMin': 29.32, 'temperatureMinTime': 1521802800, 'temperatureMax': 42.04, 'temperatureMaxTime': 1521831600, 'apparentTemperatureMin': 22.34, 'apparentTemperatureMinTime': 1521802800, 'apparentTemperatureMax': 36.5, 'apparentTemperatureMaxTime': 1521831600}, {'time': 1521867600, 'summary': 'Mostly cloudy throughout the day and breezy in the afternoon.', 'icon': 'wind', 'sunriseTime': 1521892063, 'sunsetTime': 1521936485, 'moonPhase': 0.26, 'precipIntensity': 0.0191, 'precipIntensityMax': 0.0266, 'precipIntensityMaxTime': 1521874800, 'precipProbability': 0.63, 'precipType': 'rain', 'temperatureHigh': 39.97, 'temperatureHighTime': 1521918000, 'temperatureLow': 32.3, 'temperatureLowTime': 1521968400, 'apparentTemperatureHigh': 30.74, 'apparentTemperatureHighTime': 1521914400, 'apparentTemperatureLow': 23.32, 'apparentTemperatureLowTime': 1521972000, 'dewPoint': 31.23, 'humidity': 0.81, 'pressure': 1014.31, 'windSpeed': 10.01, 'windGust': 35.84, 'windGustTime': 1521918000, 'windBearing': 56, 'cloudCover': 0.97, 'uvIndex': 3, 'uvIndexTime': 1521910800, 'ozone': 359.71, 'temperatureMin': 32.04, 'temperatureMinTime': 1521867600, 'temperatureMax': 39.97, 'temperatureMaxTime': 1521918000, 'apparentTemperatureMin': 23, 'apparentTemperatureMinTime': 1521867600, 'apparentTemperatureMax': 30.74, 'apparentTemperatureMaxTime': 1521914400}, {'time': 1521954000, 'summary': 'Mostly cloudy throughout the day.', 'icon': 'partly-cloudy-day', 'sunriseTime': 1521978359, 'sunsetTime': 1522022951, 'moonPhase': 0.29, 'precipIntensity': 0.0079, 'precipIntensityMax': 0.0431, 'precipIntensityMaxTime': 1522033200, 'precipProbability': 0.37, 'precipType': 'rain', 'temperatureHigh': 39.59, 'temperatureHighTime': 1522011600, 'temperatureLow': 26.13, 'temperatureLowTime': 1522054800, 'apparentTemperatureHigh': 32.47, 'apparentTemperatureHighTime': 1522011600, 'apparentTemperatureLow': 15.99, 'apparentTemperatureLowTime': 1522054800, 'dewPoint': 27.61, 'humidity': 0.71, 'pressure': 1022.32, 'windSpeed': 11.54, 'windGust': 28.24, 'windGustTime': 1522033200, 'windBearing': 89, 'cloudCover': 0.79, 'uvIndex': 3, 'uvIndexTime': 1521997200, 'ozone': 335.09, 'temperatureMin': 32.3, 'temperatureMinTime': 1521968400, 'temperatureMax': 39.59, 'temperatureMaxTime': 1522011600, 'apparentTemperatureMin': 23.32, 'apparentTemperatureMinTime': 1521972000, 'apparentTemperatureMax': 32.47, 'apparentTemperatureMaxTime': 1522011600}]}, 'offset': -5}\n"
     ]
    }
   ],
   "source": [
    "#Pure forecast\n",
    "url = str(\"https://api.darksky.net/forecast/\"+ config.api_k + \"/\"+ latitude + \n",
    "           \",\" + longitude + \"?exclude=currently,minutely,flags,hourly\")\n",
    "    \n",
    "response = requests.get(url).json()\n",
    "print(response)"
   ]
  },
  {
   "cell_type": "code",
   "execution_count": 5,
   "metadata": {},
   "outputs": [
    {
     "data": {
      "text/html": [
       "<div>\n",
       "<style>\n",
       "    .dataframe thead tr:only-child th {\n",
       "        text-align: right;\n",
       "    }\n",
       "\n",
       "    .dataframe thead th {\n",
       "        text-align: left;\n",
       "    }\n",
       "\n",
       "    .dataframe tbody tr th {\n",
       "        vertical-align: top;\n",
       "    }\n",
       "</style>\n",
       "<table border=\"1\" class=\"dataframe\">\n",
       "  <thead>\n",
       "    <tr style=\"text-align: right;\">\n",
       "      <th></th>\n",
       "      <th>Date</th>\n",
       "      <th>MeanAppTemp</th>\n",
       "      <th>PrecipIntensity</th>\n",
       "      <th>PrecipProb</th>\n",
       "    </tr>\n",
       "  </thead>\n",
       "  <tbody>\n",
       "    <tr>\n",
       "      <th>0</th>\n",
       "      <td>03/18/2018</td>\n",
       "      <td>39.935</td>\n",
       "      <td>0.0001</td>\n",
       "      <td>0.13</td>\n",
       "    </tr>\n",
       "    <tr>\n",
       "      <th>1</th>\n",
       "      <td>03/19/2018</td>\n",
       "      <td>22.460</td>\n",
       "      <td>0.0002</td>\n",
       "      <td>0.12</td>\n",
       "    </tr>\n",
       "    <tr>\n",
       "      <th>2</th>\n",
       "      <td>03/20/2018</td>\n",
       "      <td>21.510</td>\n",
       "      <td>0.0001</td>\n",
       "      <td>0.12</td>\n",
       "    </tr>\n",
       "    <tr>\n",
       "      <th>3</th>\n",
       "      <td>03/21/2018</td>\n",
       "      <td>24.725</td>\n",
       "      <td>0.0001</td>\n",
       "      <td>0.11</td>\n",
       "    </tr>\n",
       "  </tbody>\n",
       "</table>\n",
       "</div>"
      ],
      "text/plain": [
       "         Date  MeanAppTemp  PrecipIntensity  PrecipProb\n",
       "0  03/18/2018       39.935           0.0001        0.13\n",
       "1  03/19/2018       22.460           0.0002        0.12\n",
       "2  03/20/2018       21.510           0.0001        0.12\n",
       "3  03/21/2018       24.725           0.0001        0.11"
      ]
     },
     "execution_count": 5,
     "metadata": {},
     "output_type": "execute_result"
    }
   ],
   "source": [
    "datlist = []\n",
    "resp = response\n",
    "for j in range(4):  #For today and next 3 days\n",
    "    datlist.append({\"Date\": datetime.datetime.fromtimestamp(resp[\"daily\"][\"data\"][j][\"time\"]).strftime(\"%m/%d/%Y\"),\n",
    "                       \"MeanAppTemp\": (resp[\"daily\"][\"data\"][j][\"apparentTemperatureLow\"] +\n",
    "                                      resp[\"daily\"][\"data\"][j][\"apparentTemperatureHigh\"])/2,\n",
    "                       \"PrecipProb\": resp[\"daily\"][\"data\"][j][\"precipProbability\"],\n",
    "                       \"PrecipIntensity\": resp[\"daily\"][\"data\"][j][\"precipIntensity\"]})\n",
    "weatherForecast = pd.DataFrame(datlist)\n",
    "weatherForecast"
   ]
  },
  {
   "cell_type": "markdown",
   "metadata": {},
   "source": [
    "### Write data and store (On AWS only the small forecast would be repeatedly stored and overwritten)"
   ]
  },
  {
   "cell_type": "code",
   "execution_count": 85,
   "metadata": {},
   "outputs": [
    {
     "data": {
      "text/plain": [
       "['C:\\\\Users\\\\varun\\\\Documents\\\\Northwestern\\\\Studies\\\\Winter2018\\\\Analytics_Value_Chain\\\\Varun_Project\\\\MSiA423_WebApp\\\\Develop\\\\msia423_project_model\\\\notebooks']"
      ]
     },
     "execution_count": 85,
     "metadata": {},
     "output_type": "execute_result"
    }
   ],
   "source": [
    "curNBdir = !echo %cd%\n",
    "curNBdir #No good way to use relative path in Jupyter."
   ]
  },
  {
   "cell_type": "code",
   "execution_count": 86,
   "metadata": {
    "collapsed": true,
    "scrolled": true
   },
   "outputs": [],
   "source": [
    "weatherDat.to_csv(\"historicalWeatherSample.csv\", index = False) #Obviously in Py file save to data directory\n",
    "weatherForecast.to_csv(\"currentForecast.csv\", index = False)"
   ]
  }
 ],
 "metadata": {
  "kernelspec": {
   "display_name": "Python 3",
   "language": "python",
   "name": "python3"
  },
  "language_info": {
   "codemirror_mode": {
    "name": "ipython",
    "version": 3
   },
   "file_extension": ".py",
   "mimetype": "text/x-python",
   "name": "python",
   "nbconvert_exporter": "python",
   "pygments_lexer": "ipython3",
   "version": "3.6.1"
  }
 },
 "nbformat": 4,
 "nbformat_minor": 2
}
