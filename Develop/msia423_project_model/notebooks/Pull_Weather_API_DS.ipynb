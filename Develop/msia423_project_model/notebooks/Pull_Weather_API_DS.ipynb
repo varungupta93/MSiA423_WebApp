{
 "cells": [
  {
   "cell_type": "markdown",
   "metadata": {},
   "source": [
    "# Weather Underground stopped allowing access to historical data, and with the 10 calls/minute limit were slow to use. This is how weather data is pulled from DarkSky.net"
   ]
  },
  {
   "cell_type": "code",
   "execution_count": 77,
   "metadata": {
    "collapsed": true
   },
   "outputs": [],
   "source": [
    "import requests\n",
    "import time\n",
    "import json\n",
    "import config\n",
    "import datetime\n",
    "import pandas as pd\n",
    "import os"
   ]
  },
  {
   "cell_type": "code",
   "execution_count": 69,
   "metadata": {
    "collapsed": true
   },
   "outputs": [],
   "source": [
    " #Chicago coordinates\n",
    "latitude = \"41.8781\"\n",
    "longitude = \"-87.6298\"\n"
   ]
  },
  {
   "cell_type": "markdown",
   "metadata": {},
   "source": [
    "### Getting Historical Weather Data"
   ]
  },
  {
   "cell_type": "code",
   "execution_count": 16,
   "metadata": {},
   "outputs": [
    {
     "name": "stdout",
     "output_type": "stream",
     "text": [
      "2017-12-31 00:00:00\n"
     ]
    }
   ],
   "source": [
    "enddate = datetime.datetime(2017,12,31) #final date to pull weather for.\n",
    "\n",
    "startdate = enddate - datetime.timedelta(days = 1)"
   ]
  },
  {
   "cell_type": "code",
   "execution_count": 70,
   "metadata": {},
   "outputs": [
    {
     "name": "stdout",
     "output_type": "stream",
     "text": [
      "1514613600\n"
     ]
    }
   ],
   "source": [
    "print(int(startdate.timestamp())) #UNIX time format for URL request"
   ]
  },
  {
   "cell_type": "code",
   "execution_count": 48,
   "metadata": {
    "collapsed": true
   },
   "outputs": [
    {
     "name": "stdout",
     "output_type": "stream",
     "text": [
      "1514613600\n",
      "1514700000\n",
      "[{'latitude': 41.8781, 'longitude': -87.6298, 'timezone': 'America/Chicago', 'daily': {'data': [{'time': 1514613600, 'summary': 'Mostly cloudy overnight.', 'icon': 'partly-cloudy-night', 'sunriseTime': 1514639952, 'sunsetTime': 1514672980, 'moonPhase': 0.41, 'precipIntensity': 0, 'precipIntensityMax': 0, 'precipProbability': 0, 'temperatureHigh': 7.38, 'temperatureHighTime': 1514638800, 'temperatureLow': 1.35, 'temperatureLowTime': 1514696400, 'apparentTemperatureHigh': -10.19, 'apparentTemperatureHighTime': 1514667600, 'apparentTemperatureLow': -15.58, 'apparentTemperatureLowTime': 1514689200, 'dewPoint': -2.97, 'humidity': 0.64, 'pressure': 1027.59, 'windSpeed': 13.24, 'windBearing': 296, 'cloudCover': 0.22, 'visibility': 9.26, 'temperatureMin': 1.35, 'temperatureMinTime': 1514696400, 'temperatureMax': 14.85, 'temperatureMaxTime': 1514613600, 'apparentTemperatureMin': -15.58, 'apparentTemperatureMinTime': 1514689200, 'apparentTemperatureMax': 3.87, 'apparentTemperatureMaxTime': 1514613600}]}, 'offset': -6}, {'latitude': 41.8781, 'longitude': -87.6298, 'timezone': 'America/Chicago', 'daily': {'data': [{'time': 1514700000, 'summary': 'Partly cloudy in the morning.', 'icon': 'partly-cloudy-night', 'sunriseTime': 1514726360, 'sunsetTime': 1514759429, 'moonPhase': 0.45, 'precipIntensity': 0, 'precipIntensityMax': 0, 'precipProbability': 0, 'temperatureHigh': 13.81, 'temperatureHighTime': 1514754000, 'temperatureLow': -6.16, 'temperatureLowTime': 1514815200, 'apparentTemperatureHigh': -0.05, 'apparentTemperatureHighTime': 1514750400, 'apparentTemperatureLow': -25.86, 'apparentTemperatureLowTime': 1514811600, 'dewPoint': -3.69, 'humidity': 0.63, 'pressure': 1034.8, 'windSpeed': 10.15, 'windBearing': 294, 'cloudCover': 0.25, 'visibility': 9.91, 'temperatureMin': 1.47, 'temperatureMinTime': 1514700000, 'temperatureMax': 13.81, 'temperatureMaxTime': 1514754000, 'apparentTemperatureMin': -14.52, 'apparentTemperatureMinTime': 1514700000, 'apparentTemperatureMax': -0.05, 'apparentTemperatureMaxTime': 1514750400}]}, 'offset': -6}]\n"
     ]
    }
   ],
   "source": [
    "day_datetime = startdate\n",
    "ctr = 0\n",
    "responses = [] #list to store responses from API\n",
    "while day_datetime <= enddate: #Need to change dates and call <1000/day to get weather for all dates.\n",
    "    dayiter = str(int(day_datetime.timestamp())) #string date format for current date on loop.\n",
    "    print(dayiter)\n",
    "    ctr = ctr + 1\n",
    "    url = str(\"https://api.darksky.net/forecast/\"+ config.api_k + \"/\"+ latitude + \n",
    "           \",\" + longitude + \",\"+ str(dayiter) + \"?exclude=currently,minutely,flags,hourly\")\n",
    "    \n",
    "    response = requests.get(url).json()\n",
    "    responses.append(response)\n",
    "    day_datetime = day_datetime + datetime.timedelta(days = 1)\n",
    "    \n",
    "    if ctr == 4: #Purely during testing, to prevent an infinite loop of calls and resultant API ban.\n",
    "        break\n",
    "\n",
    "                            "
   ]
  },
  {
   "cell_type": "code",
   "execution_count": 49,
   "metadata": {},
   "outputs": [
    {
     "name": "stdout",
     "output_type": "stream",
     "text": [
      "{'latitude': 41.8781, 'longitude': -87.6298, 'timezone': 'America/Chicago', 'daily': {'data': [{'time': 1514700000, 'summary': 'Partly cloudy in the morning.', 'icon': 'partly-cloudy-night', 'sunriseTime': 1514726360, 'sunsetTime': 1514759429, 'moonPhase': 0.45, 'precipIntensity': 0, 'precipIntensityMax': 0, 'precipProbability': 0, 'temperatureHigh': 13.81, 'temperatureHighTime': 1514754000, 'temperatureLow': -6.16, 'temperatureLowTime': 1514815200, 'apparentTemperatureHigh': -0.05, 'apparentTemperatureHighTime': 1514750400, 'apparentTemperatureLow': -25.86, 'apparentTemperatureLowTime': 1514811600, 'dewPoint': -3.69, 'humidity': 0.63, 'pressure': 1034.8, 'windSpeed': 10.15, 'windBearing': 294, 'cloudCover': 0.25, 'visibility': 9.91, 'temperatureMin': 1.47, 'temperatureMinTime': 1514700000, 'temperatureMax': 13.81, 'temperatureMaxTime': 1514754000, 'apparentTemperatureMin': -14.52, 'apparentTemperatureMinTime': 1514700000, 'apparentTemperatureMax': -0.05, 'apparentTemperatureMaxTime': 1514750400}]}, 'offset': -6}\n"
     ]
    }
   ],
   "source": [
    "print(response) #Sample response"
   ]
  },
  {
   "cell_type": "markdown",
   "metadata": {},
   "source": [
    "### Store historic weather data in DataFrame, to write to csv and be used to train model. Full script will do this in batches to stay within call limit."
   ]
  },
  {
   "cell_type": "code",
   "execution_count": 68,
   "metadata": {},
   "outputs": [
    {
     "data": {
      "text/html": [
       "<div>\n",
       "<style>\n",
       "    .dataframe thead tr:only-child th {\n",
       "        text-align: right;\n",
       "    }\n",
       "\n",
       "    .dataframe thead th {\n",
       "        text-align: left;\n",
       "    }\n",
       "\n",
       "    .dataframe tbody tr th {\n",
       "        vertical-align: top;\n",
       "    }\n",
       "</style>\n",
       "<table border=\"1\" class=\"dataframe\">\n",
       "  <thead>\n",
       "    <tr style=\"text-align: right;\">\n",
       "      <th></th>\n",
       "      <th>Date</th>\n",
       "      <th>MeanAppTemp</th>\n",
       "      <th>PrecipIntensity</th>\n",
       "      <th>PrecipProb</th>\n",
       "    </tr>\n",
       "  </thead>\n",
       "  <tbody>\n",
       "    <tr>\n",
       "      <th>0</th>\n",
       "      <td>12/30/2017</td>\n",
       "      <td>-12.885</td>\n",
       "      <td>0</td>\n",
       "      <td>0</td>\n",
       "    </tr>\n",
       "    <tr>\n",
       "      <th>1</th>\n",
       "      <td>12/31/2017</td>\n",
       "      <td>-12.955</td>\n",
       "      <td>0</td>\n",
       "      <td>0</td>\n",
       "    </tr>\n",
       "  </tbody>\n",
       "</table>\n",
       "</div>"
      ],
      "text/plain": [
       "         Date  MeanAppTemp  PrecipIntensity  PrecipProb\n",
       "0  12/30/2017      -12.885                0           0\n",
       "1  12/31/2017      -12.955                0           0"
      ]
     },
     "execution_count": 68,
     "metadata": {},
     "output_type": "execute_result"
    }
   ],
   "source": [
    "datlist = []\n",
    "for resp in responses:\n",
    "    \n",
    "    datlist.append({\"Date\": datetime.datetime.fromtimestamp(resp[\"daily\"][\"data\"][0][\"time\"]).strftime(\"%m/%d/%Y\"),\n",
    "                       \"MeanAppTemp\": (resp[\"daily\"][\"data\"][0][\"apparentTemperatureLow\"] +\n",
    "                                      resp[\"daily\"][\"data\"][0][\"apparentTemperatureHigh\"])/2,\n",
    "                       \"PrecipProb\": resp[\"daily\"][\"data\"][0][\"precipProbability\"],\n",
    "                       \"PrecipIntensity\": resp[\"daily\"][\"data\"][0][\"precipProbability\"]})\n",
    "weatherDat = pd.DataFrame(datlist)\n",
    "weatherDat\n"
   ]
  },
  {
   "cell_type": "markdown",
   "metadata": {},
   "source": [
    "### Get current forecast for next few days (to be calculated at regular intervals - every few hours - and stored,                                         and used in predictions for the web app). Only the immediate next day is used."
   ]
  },
  {
   "cell_type": "code",
   "execution_count": 51,
   "metadata": {
    "scrolled": true
   },
   "outputs": [
    {
     "name": "stdout",
     "output_type": "stream",
     "text": [
      "{'latitude': 41.8781, 'longitude': -87.6298, 'timezone': 'America/Chicago', 'daily': {'summary': 'Light rain today through Thursday, with temperatures peaking at 56°F on Tuesday.', 'icon': 'rain', 'data': [{'time': 1519365600, 'summary': 'Light rain in the morning.', 'icon': 'rain', 'sunriseTime': 1519389346, 'sunsetTime': 1519428887, 'moonPhase': 0.27, 'precipIntensity': 0.004, 'precipIntensityMax': 0.0353, 'precipIntensityMaxTime': 1519387200, 'precipProbability': 0.45, 'precipType': 'rain', 'temperatureHigh': 45.12, 'temperatureHighTime': 1519416000, 'temperatureLow': 35.19, 'temperatureLowTime': 1519462800, 'apparentTemperatureHigh': 39.95, 'apparentTemperatureHighTime': 1519416000, 'apparentTemperatureLow': 28.2, 'apparentTemperatureLowTime': 1519462800, 'dewPoint': 36.78, 'humidity': 0.86, 'pressure': 1022.65, 'windSpeed': 4, 'windGust': 18.04, 'windGustTime': 1519408800, 'windBearing': 249, 'cloudCover': 0.98, 'uvIndex': 2, 'uvIndexTime': 1519405200, 'visibility': 7.55, 'ozone': 286.49, 'temperatureMin': 37.31, 'temperatureMinTime': 1519448400, 'temperatureMax': 45.12, 'temperatureMaxTime': 1519416000, 'apparentTemperatureMin': 32.61, 'apparentTemperatureMinTime': 1519448400, 'apparentTemperatureMax': 39.95, 'apparentTemperatureMaxTime': 1519416000}, {'time': 1519452000, 'summary': 'Overcast throughout the day and breezy overnight.', 'icon': 'wind', 'sunriseTime': 1519475655, 'sunsetTime': 1519515360, 'moonPhase': 0.31, 'precipIntensity': 0.0063, 'precipIntensityMax': 0.0234, 'precipIntensityMaxTime': 1519534800, 'precipProbability': 0.62, 'precipType': 'rain', 'temperatureHigh': 42.41, 'temperatureHighTime': 1519520400, 'temperatureLow': 35.44, 'temperatureLowTime': 1519567200, 'apparentTemperatureHigh': 34.79, 'apparentTemperatureHighTime': 1519520400, 'apparentTemperatureLow': 24.11, 'apparentTemperatureLowTime': 1519567200, 'dewPoint': 32.46, 'humidity': 0.76, 'pressure': 1016.5, 'windSpeed': 9.34, 'windGust': 33.07, 'windGustTime': 1519527600, 'windBearing': 89, 'cloudCover': 0.97, 'uvIndex': 2, 'uvIndexTime': 1519491600, 'visibility': 10, 'ozone': 277.26, 'temperatureMin': 35.19, 'temperatureMinTime': 1519462800, 'temperatureMax': 47.55, 'temperatureMaxTime': 1519534800, 'apparentTemperatureMin': 28.2, 'apparentTemperatureMinTime': 1519462800, 'apparentTemperatureMax': 41.24, 'apparentTemperatureMaxTime': 1519534800}, {'time': 1519538400, 'summary': 'Breezy in the morning and mostly cloudy until afternoon.', 'icon': 'wind', 'sunriseTime': 1519561964, 'sunsetTime': 1519601833, 'moonPhase': 0.35, 'precipIntensity': 0.0028, 'precipIntensityMax': 0.0264, 'precipIntensityMaxTime': 1519538400, 'precipProbability': 0.81, 'precipType': 'rain', 'temperatureHigh': 43.35, 'temperatureHighTime': 1519592400, 'temperatureLow': 34.54, 'temperatureLowTime': 1519650000, 'apparentTemperatureHigh': 35.94, 'apparentTemperatureHighTime': 1519592400, 'apparentTemperatureLow': 27.68, 'apparentTemperatureLowTime': 1519632000, 'dewPoint': 28.59, 'humidity': 0.63, 'pressure': 1008.82, 'windSpeed': 16.34, 'windGust': 40.24, 'windGustTime': 1519549200, 'windBearing': 238, 'cloudCover': 0.48, 'uvIndex': 3, 'uvIndexTime': 1519581600, 'visibility': 10, 'ozone': 349.67, 'temperatureMin': 35.08, 'temperatureMinTime': 1519570800, 'temperatureMax': 48.46, 'temperatureMaxTime': 1519538400, 'apparentTemperatureMin': 23.87, 'apparentTemperatureMinTime': 1519570800, 'apparentTemperatureMax': 42.36, 'apparentTemperatureMaxTime': 1519538400}, {'time': 1519624800, 'summary': 'Partly cloudy until afternoon.', 'icon': 'partly-cloudy-day', 'sunriseTime': 1519648271, 'sunsetTime': 1519688306, 'moonPhase': 0.38, 'precipIntensity': 0.0001, 'precipIntensityMax': 0.0003, 'precipIntensityMaxTime': 1519664400, 'precipProbability': 0.09, 'precipType': 'rain', 'temperatureHigh': 48.54, 'temperatureHighTime': 1519678800, 'temperatureLow': 40.47, 'temperatureLowTime': 1519722000, 'apparentTemperatureHigh': 43.66, 'apparentTemperatureHighTime': 1519678800, 'apparentTemperatureLow': 34.01, 'apparentTemperatureLowTime': 1519718400, 'dewPoint': 26.41, 'humidity': 0.58, 'pressure': 1021.54, 'windSpeed': 9.22, 'windGust': 28.76, 'windGustTime': 1519707600, 'windBearing': 225, 'cloudCover': 0.14, 'uvIndex': 3, 'uvIndexTime': 1519668000, 'visibility': 10, 'ozone': 363.92, 'temperatureMin': 34.54, 'temperatureMinTime': 1519650000, 'temperatureMax': 48.54, 'temperatureMaxTime': 1519678800, 'apparentTemperatureMin': 27.68, 'apparentTemperatureMinTime': 1519632000, 'apparentTemperatureMax': 43.66, 'apparentTemperatureMaxTime': 1519678800}, {'time': 1519711200, 'summary': 'Partly cloudy starting in the afternoon.', 'icon': 'partly-cloudy-night', 'sunriseTime': 1519734577, 'sunsetTime': 1519774778, 'moonPhase': 0.42, 'precipIntensity': 0.0001, 'precipIntensityMax': 0.0008, 'precipIntensityMaxTime': 1519794000, 'precipProbability': 0.06, 'precipType': 'rain', 'temperatureHigh': 56.04, 'temperatureHighTime': 1519765200, 'temperatureLow': 44.22, 'temperatureLowTime': 1519812000, 'apparentTemperatureHigh': 56.04, 'apparentTemperatureHighTime': 1519765200, 'apparentTemperatureLow': 41.16, 'apparentTemperatureLowTime': 1519797600, 'dewPoint': 32.53, 'humidity': 0.57, 'pressure': 1021.02, 'windSpeed': 9.11, 'windGust': 28.75, 'windGustTime': 1519711200, 'windBearing': 203, 'cloudCover': 0.18, 'uvIndex': 3, 'uvIndexTime': 1519750800, 'ozone': 353.93, 'temperatureMin': 40.47, 'temperatureMinTime': 1519722000, 'temperatureMax': 56.04, 'temperatureMaxTime': 1519765200, 'apparentTemperatureMin': 34.01, 'apparentTemperatureMinTime': 1519718400, 'apparentTemperatureMax': 56.04, 'apparentTemperatureMaxTime': 1519765200}, {'time': 1519797600, 'summary': 'Rain and breezy overnight.', 'icon': 'rain', 'sunriseTime': 1519820883, 'sunsetTime': 1519861250, 'moonPhase': 0.46, 'precipIntensity': 0.0043, 'precipIntensityMax': 0.0367, 'precipIntensityMaxTime': 1519880400, 'precipProbability': 0.38, 'precipType': 'rain', 'temperatureHigh': 45.88, 'temperatureHighTime': 1519837200, 'temperatureLow': 38.61, 'temperatureLowTime': 1519894800, 'apparentTemperatureHigh': 42.23, 'apparentTemperatureHighTime': 1519822800, 'apparentTemperatureLow': 29.27, 'apparentTemperatureLowTime': 1519898400, 'dewPoint': 35.76, 'humidity': 0.74, 'pressure': 1013.54, 'windSpeed': 5.31, 'windGust': 29.12, 'windGustTime': 1519880400, 'windBearing': 22, 'cloudCover': 0.97, 'uvIndex': 2, 'uvIndexTime': 1519837200, 'ozone': 335.38, 'temperatureMin': 39.67, 'temperatureMinTime': 1519880400, 'temperatureMax': 46.21, 'temperatureMaxTime': 1519797600, 'apparentTemperatureMin': 32.45, 'apparentTemperatureMinTime': 1519880400, 'apparentTemperatureMax': 44.73, 'apparentTemperatureMaxTime': 1519804800}, {'time': 1519884000, 'summary': 'Rain and breezy in the morning.', 'icon': 'rain', 'sunriseTime': 1519907188, 'sunsetTime': 1519947722, 'moonPhase': 0.49, 'precipIntensity': 0.033, 'precipIntensityMax': 0.1142, 'precipIntensityMaxTime': 1519916400, 'precipProbability': 0.81, 'precipType': 'rain', 'temperatureHigh': 40.29, 'temperatureHighTime': 1519923600, 'temperatureLow': 31.98, 'temperatureLowTime': 1519977600, 'apparentTemperatureHigh': 34.62, 'apparentTemperatureHighTime': 1519945200, 'apparentTemperatureLow': 21.29, 'apparentTemperatureLowTime': 1519977600, 'dewPoint': 32.41, 'humidity': 0.78, 'pressure': 1006.83, 'windSpeed': 8.58, 'windGust': 32.96, 'windGustTime': 1519902000, 'windBearing': 48, 'cloudCover': 0.96, 'uvIndex': 2, 'uvIndexTime': 1519923600, 'ozone': 342.85, 'temperatureMin': 33.86, 'temperatureMinTime': 1519966800, 'temperatureMax': 40.29, 'temperatureMaxTime': 1519923600, 'apparentTemperatureMin': 23.93, 'apparentTemperatureMinTime': 1519966800, 'apparentTemperatureMax': 34.62, 'apparentTemperatureMaxTime': 1519945200}, {'time': 1519970400, 'summary': 'Overcast throughout the day.', 'icon': 'cloudy', 'sunriseTime': 1519993492, 'sunsetTime': 1520034193, 'moonPhase': 0.53, 'precipIntensity': 0.0028, 'precipIntensityMax': 0.0061, 'precipIntensityMaxTime': 1520017200, 'precipProbability': 0.26, 'precipAccumulation': 0.444, 'precipType': 'snow', 'temperatureHigh': 38.52, 'temperatureHighTime': 1520024400, 'temperatureLow': 26.56, 'temperatureLowTime': 1520064000, 'apparentTemperatureHigh': 30.49, 'apparentTemperatureHighTime': 1520024400, 'apparentTemperatureLow': 16.5, 'apparentTemperatureLowTime': 1520064000, 'dewPoint': 24.1, 'humidity': 0.69, 'pressure': 1017.09, 'windSpeed': 13.07, 'windGust': 34.08, 'windGustTime': 1519988400, 'windBearing': 304, 'cloudCover': 0.98, 'uvIndex': 2, 'uvIndexTime': 1520010000, 'ozone': 384.36, 'temperatureMin': 27.88, 'temperatureMinTime': 1520053200, 'temperatureMax': 38.52, 'temperatureMaxTime': 1520024400, 'apparentTemperatureMin': 18.16, 'apparentTemperatureMinTime': 1520053200, 'apparentTemperatureMax': 30.49, 'apparentTemperatureMaxTime': 1520024400}]}, 'offset': -6}\n"
     ]
    }
   ],
   "source": [
    "#Pure forecast\n",
    "url = str(\"https://api.darksky.net/forecast/\"+ config.api_k + \"/\"+ latitude + \n",
    "           \",\" + longitude + \"?exclude=currently,minutely,flags,hourly\")\n",
    "    \n",
    "response = requests.get(url).json()\n",
    "print(response)"
   ]
  },
  {
   "cell_type": "code",
   "execution_count": 75,
   "metadata": {},
   "outputs": [
    {
     "data": {
      "text/html": [
       "<div>\n",
       "<style>\n",
       "    .dataframe thead tr:only-child th {\n",
       "        text-align: right;\n",
       "    }\n",
       "\n",
       "    .dataframe thead th {\n",
       "        text-align: left;\n",
       "    }\n",
       "\n",
       "    .dataframe tbody tr th {\n",
       "        vertical-align: top;\n",
       "    }\n",
       "</style>\n",
       "<table border=\"1\" class=\"dataframe\">\n",
       "  <thead>\n",
       "    <tr style=\"text-align: right;\">\n",
       "      <th></th>\n",
       "      <th>Date</th>\n",
       "      <th>MeanAppTemp</th>\n",
       "      <th>PrecipIntensity</th>\n",
       "      <th>PrecipProb</th>\n",
       "    </tr>\n",
       "  </thead>\n",
       "  <tbody>\n",
       "    <tr>\n",
       "      <th>0</th>\n",
       "      <td>02/23/2018</td>\n",
       "      <td>34.075</td>\n",
       "      <td>0.45</td>\n",
       "      <td>0.45</td>\n",
       "    </tr>\n",
       "    <tr>\n",
       "      <th>1</th>\n",
       "      <td>02/24/2018</td>\n",
       "      <td>29.450</td>\n",
       "      <td>0.62</td>\n",
       "      <td>0.62</td>\n",
       "    </tr>\n",
       "    <tr>\n",
       "      <th>2</th>\n",
       "      <td>02/25/2018</td>\n",
       "      <td>31.810</td>\n",
       "      <td>0.81</td>\n",
       "      <td>0.81</td>\n",
       "    </tr>\n",
       "    <tr>\n",
       "      <th>3</th>\n",
       "      <td>02/26/2018</td>\n",
       "      <td>38.835</td>\n",
       "      <td>0.09</td>\n",
       "      <td>0.09</td>\n",
       "    </tr>\n",
       "  </tbody>\n",
       "</table>\n",
       "</div>"
      ],
      "text/plain": [
       "         Date  MeanAppTemp  PrecipIntensity  PrecipProb\n",
       "0  02/23/2018       34.075             0.45        0.45\n",
       "1  02/24/2018       29.450             0.62        0.62\n",
       "2  02/25/2018       31.810             0.81        0.81\n",
       "3  02/26/2018       38.835             0.09        0.09"
      ]
     },
     "execution_count": 75,
     "metadata": {},
     "output_type": "execute_result"
    }
   ],
   "source": [
    "datlist = []\n",
    "resp = response\n",
    "for j in range(4):  #For today and next 3 days\n",
    "    datlist.append({\"Date\": datetime.datetime.fromtimestamp(resp[\"daily\"][\"data\"][j][\"time\"]).strftime(\"%m/%d/%Y\"),\n",
    "                       \"MeanAppTemp\": (resp[\"daily\"][\"data\"][j][\"apparentTemperatureLow\"] +\n",
    "                                      resp[\"daily\"][\"data\"][j][\"apparentTemperatureHigh\"])/2,\n",
    "                       \"PrecipProb\": resp[\"daily\"][\"data\"][j][\"precipProbability\"],\n",
    "                       \"PrecipIntensity\": resp[\"daily\"][\"data\"][j][\"precipProbability\"]})\n",
    "weatherForecast = pd.DataFrame(datlist)\n",
    "weatherForecast"
   ]
  },
  {
   "cell_type": "markdown",
   "metadata": {},
   "source": [
    "### Write data and store (On AWS only the small forecast would be repeatedly stored and overwritten)"
   ]
  },
  {
   "cell_type": "code",
   "execution_count": 85,
   "metadata": {},
   "outputs": [
    {
     "data": {
      "text/plain": [
       "['C:\\\\Users\\\\varun\\\\Documents\\\\Northwestern\\\\Studies\\\\Winter2018\\\\Analytics_Value_Chain\\\\Varun_Project\\\\MSiA423_WebApp\\\\Develop\\\\msia423_project_model\\\\notebooks']"
      ]
     },
     "execution_count": 85,
     "metadata": {},
     "output_type": "execute_result"
    }
   ],
   "source": [
    "curNBdir = !echo %cd%\n",
    "curNBdir #No good way to use relative path in Jupyter."
   ]
  },
  {
   "cell_type": "code",
   "execution_count": 86,
   "metadata": {
    "collapsed": true,
    "scrolled": true
   },
   "outputs": [],
   "source": [
    "weatherDat.to_csv(\"historicalWeatherSample.csv\", index = False) #Obviously in Py file save to data directory\n",
    "weatherForecast.to_csv(\"currentForecast.csv\", index = False)"
   ]
  }
 ],
 "metadata": {
  "kernelspec": {
   "display_name": "Python 3",
   "language": "python",
   "name": "python3"
  },
  "language_info": {
   "codemirror_mode": {
    "name": "ipython",
    "version": 3
   },
   "file_extension": ".py",
   "mimetype": "text/x-python",
   "name": "python",
   "nbconvert_exporter": "python",
   "pygments_lexer": "ipython3",
   "version": "3.6.1"
  }
 },
 "nbformat": 4,
 "nbformat_minor": 2
}
