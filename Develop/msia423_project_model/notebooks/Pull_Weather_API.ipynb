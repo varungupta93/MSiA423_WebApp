{
 "cells": [
  {
   "cell_type": "code",
   "execution_count": 12,
   "metadata": {
    "collapsed": true
   },
   "outputs": [],
   "source": [
    "import requests\n",
    "import time\n",
    "import json"
   ]
  },
  {
   "cell_type": "code",
   "execution_count": 25,
   "metadata": {
    "collapsed": true
   },
   "outputs": [],
   "source": [
    "\n",
    "\n",
    "daycount = 31 #\n",
    "histmean = [] #To be used for temperature of that day.\n",
    "\n",
    "f = open(\"config.txt\", \"r\")\n",
    "key = f.read() \n",
    "loc = \"IL/Chicago\"\n"
   ]
  },
  {
   "cell_type": "code",
   "execution_count": 27,
   "metadata": {},
   "outputs": [],
   "source": [
    "for j in range(daycount): #Testing, need to restructure to get weather for all dates.\n",
    "    response = requests.get(\"http://api.wunderground.com/api/\"+ key + \"history_201712\"+ str(j+1).zfill(2)+\"/q/\"+\n",
    "                                        loc + \".json\")\n",
    "    time.sleep(6.1) #TO STAY WITHIN API LIMITS OF 10 CALLS/MINUTE"
   ]
  },
  {
   "cell_type": "code",
   "execution_count": 13,
   "metadata": {
    "scrolled": true
   },
   "outputs": [],
   "source": [
    "with open('outputweather.json', 'w') as outf:\n",
    "    json.dump(response.json(), outf)"
   ]
  }
 ],
 "metadata": {
  "kernelspec": {
   "display_name": "Python 3",
   "language": "python",
   "name": "python3"
  },
  "language_info": {
   "codemirror_mode": {
    "name": "ipython",
    "version": 3
   },
   "file_extension": ".py",
   "mimetype": "text/x-python",
   "name": "python",
   "nbconvert_exporter": "python",
   "pygments_lexer": "ipython3",
   "version": "3.6.1"
  }
 },
 "nbformat": 4,
 "nbformat_minor": 2
}
